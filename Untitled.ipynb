{
 "cells": [
  {
   "cell_type": "code",
   "execution_count": 1,
   "id": "d4713b57",
   "metadata": {},
   "outputs": [
    {
     "name": "stderr",
     "output_type": "stream",
     "text": [
      "/Users/rajneeshdubey/opt/anaconda3/envs/myenv/lib/python3.9/site-packages/torchvision/io/image.py:13: UserWarning: Failed to load image Python extension: dlopen(/Users/rajneeshdubey/opt/anaconda3/envs/myenv/lib/python3.9/site-packages/torchvision/image.so, 0x0006): Symbol not found: __ZN2at4_ops19empty_memory_format4callEN3c108ArrayRefIxEENS2_8optionalINS2_10ScalarTypeEEENS5_INS2_6LayoutEEENS5_INS2_6DeviceEEENS5_IbEENS5_INS2_12MemoryFormatEEE\n",
      "  Referenced from: <67CD63CE-57E0-341F-B3B8-78729B03D2B3> /Users/rajneeshdubey/opt/anaconda3/envs/myenv/lib/python3.9/site-packages/torchvision/image.so\n",
      "  Expected in:     <1B55C5F3-1A63-3394-80E2-5C5063D7519D> /Users/rajneeshdubey/opt/anaconda3/envs/myenv/lib/python3.9/site-packages/torch/lib/libtorch_cpu.dylib\n",
      "  warn(f\"Failed to load image Python extension: {e}\")\n",
      "2023-10-02 14:53:28.828046: I tensorflow/core/platform/cpu_feature_guard.cc:193] This TensorFlow binary is optimized with oneAPI Deep Neural Network Library (oneDNN) to use the following CPU instructions in performance-critical operations:  SSE4.1 SSE4.2 AVX AVX2 FMA\n",
      "To enable them in other operations, rebuild TensorFlow with the appropriate compiler flags.\n"
     ]
    },
    {
     "name": "stdout",
     "output_type": "stream",
     "text": [
      "<class 'torch.utils.data.dataloader.DataLoader'>\n",
      "<class 'torch.utils.data.dataset.TensorDataset'>\n",
      "OrderedDict([('0.weight', tensor([[1.9416]])), ('0.bias', tensor([1.0235]))])\n",
      "200\n",
      "[[1.9942763]\n",
      " [1.605955 ]\n",
      " [2.3825974]]\n",
      "OrderedDict([('0.weight', tensor([[0.7645]])), ('0.bias', tensor([0.8300]))])\n",
      "OrderedDict([('0.weight', tensor([[1.9416]])), ('0.bias', tensor([1.0235]))])\n",
      "OrderedDict([('0.weight', tensor([[1.9416]])), ('0.bias', tensor([1.0235]))])\n",
      "(1, 1, 6, 6)\n",
      "(1, 1, 3, 3)\n",
      "9\n",
      "35\n"
     ]
    }
   ],
   "source": [
    "import random\n",
    "import numpy as np\n",
    "from PIL import Image\n",
    "\n",
    "import torch\n",
    "import torch.optim as optim\n",
    "import torch.nn as nn\n",
    "import torch.nn.functional as F\n",
    "\n",
    "from torch.utils.data import DataLoader, Dataset\n",
    "from torchvision.transforms import Compose, Normalize\n",
    "\n",
    "from data_generation.image_classification import generate_dataset\n",
    "from helpers import index_splitter, make_balanced_sampler\n",
    "from beguinnersGuide2_1 import StepByStep\n",
    "\n",
    "\n",
    "#'Convolution'\n",
    "single = np.array(\n",
    "    [[[[5, 0, 8, 7, 8, 1],\n",
    "       [1, 9, 5, 0, 7, 7],\n",
    "       [6, 0, 2, 4, 6, 6],\n",
    "       [9, 7, 6, 6, 8, 4],\n",
    "       [8, 3, 8, 5, 1, 3],\n",
    "       [7, 2, 7, 0, 1, 0]]]]\n",
    ")\n",
    "print(single.shape)\n",
    "\n",
    "identity = np.array(\n",
    "    [[[[0, 0, 0],\n",
    "       [0, 1, 0],\n",
    "       [0, 0, 0]]]]\n",
    ")\n",
    "print(identity.shape)\n",
    "\n",
    "region = single[:, :, 0:3, 0:3]\n",
    "filtered_region = region * identity\n",
    "total = filtered_region.sum()\n",
    "print(total)\n",
    "\n",
    "new_region = single[:, :, 0:3, (0+1):(3+1)]\n",
    "print(new_region.sum())\n",
    "\n",
    "# given an Image of hi x wi and filter hf x wf\n",
    "# the convolution will result in the image iof size - (hi + 1 - hf, wi +1 - wf)\n",
    "# this size is lesser than the image so\n"
   ]
  },
  {
   "cell_type": "code",
   "execution_count": null,
   "id": "3ada0bf1",
   "metadata": {},
   "outputs": [],
   "source": []
  }
 ],
 "metadata": {
  "kernelspec": {
   "display_name": "Python (myenv)",
   "language": "python",
   "name": "myenv"
  },
  "language_info": {
   "codemirror_mode": {
    "name": "ipython",
    "version": 3
   },
   "file_extension": ".py",
   "mimetype": "text/x-python",
   "name": "python",
   "nbconvert_exporter": "python",
   "pygments_lexer": "ipython3",
   "version": "3.9.16"
  }
 },
 "nbformat": 4,
 "nbformat_minor": 5
}
